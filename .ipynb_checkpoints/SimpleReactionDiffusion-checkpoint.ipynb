{
 "cells": [
  {
   "cell_type": "markdown",
   "id": "4e980c90",
   "metadata": {},
   "source": [
    "# This is a simple example of a reaction-diffusion model \n",
    "This model uses 2 different morphogens, an activator which activates itself and an inhibitor, and an inhbitor which inhibits the activator.  "
   ]
  },
  {
   "cell_type": "markdown",
   "id": "5e0bdcb0",
   "metadata": {},
   "source": [
    "## Building the Domain\n",
    "Our physical domain is a discreteized 1-dimensional field that can be represented by a series of 2-dimensional vectors.  We will use a length of 100 and a discretization distance of 1. "
   ]
  },
  {
   "cell_type": "code",
   "execution_count": 6,
   "id": "87e724b9",
   "metadata": {},
   "outputs": [],
   "source": [
    "import numpy as np\n",
    "\n",
    "length =100\n",
    "dx=1.0"
   ]
  },
  {
   "cell_type": "markdown",
   "id": "82ccb65e",
   "metadata": {},
   "source": [
    "# Update Equations"
   ]
  },
  {
   "cell_type": "markdown",
   "id": "c56a53a5",
   "metadata": {},
   "source": [
    "The next thing that we need to define is the update equations for our simulation. The first equation is the approximation of the 2nd derivative The inputs to this are the 3 spatial values that we need to approximate the 2nd derivative."
   ]
  },
  {
   "cell_type": "code",
   "execution_count": 29,
   "id": "2f643503",
   "metadata": {},
   "outputs": [],
   "source": [
    "def second_deriv_approx(U,delta_x):\n",
    "    return (U[2]+U[0]-2*U[1])/delta_x**2"
   ]
  },
  {
   "cell_type": "markdown",
   "id": "5e5f3717",
   "metadata": {},
   "source": [
    "The next equation is the equation that describes how the activator is affected by the inhibitor and itself. $R_a$ is the reaction rate, $A$ is the activator concentration and $I$ is the inhibitor concentration."
   ]
  },
  {
   "cell_type": "code",
   "execution_count": 30,
   "id": "2b2034e8",
   "metadata": {},
   "outputs": [],
   "source": [
    "def activator_f(A,I,R_A):\n",
    "    return R_A-A+A**2*I"
   ]
  },
  {
   "cell_type": "markdown",
   "id": "b8d8c76b",
   "metadata": {},
   "source": [
    "Next we have the equation for the inhibitor. "
   ]
  },
  {
   "cell_type": "code",
   "execution_count": 31,
   "id": "eb667c29",
   "metadata": {},
   "outputs": [],
   "source": [
    "def inhibitor_g(A,I,R_I):\n",
    "    return R_I-A**2*I"
   ]
  },
  {
   "cell_type": "markdown",
   "id": "eafbe3cf",
   "metadata": {},
   "source": [
    "These can then be used in a typical activator-inhibitor function which includes the diffusion coefficients $D_A$ and $D_I$"
   ]
  },
  {
   "cell_type": "code",
   "execution_count": 32,
   "id": "e3ee37a0",
   "metadata": {},
   "outputs": [],
   "source": [
    "def update_A(A,I,R_A,D_A,dx):\n",
    "    return D_A*second_deriv_approx(A,dx)+activator_f(A[1],I[1],R_A)\n",
    "\n",
    "def update_I(A,I,R_I,D_I,dx):\n",
    "    return D_I*second_deriv_approx(I,dx)+inhibitor_g(A[1],I[1],R_I)"
   ]
  },
  {
   "cell_type": "markdown",
   "id": "47e7ba54",
   "metadata": {},
   "source": [
    "# Integration Method\n",
    "\n",
    "<Update to something better than Euler's Method>"
   ]
  },
  {
   "cell_type": "code",
   "execution_count": 33,
   "id": "06900f30",
   "metadata": {},
   "outputs": [],
   "source": [
    "def integrate(U,du,dt):\n",
    "    return U+du*dt"
   ]
  },
  {
   "cell_type": "markdown",
   "id": "6326f020",
   "metadata": {},
   "source": [
    "# Simulation\n",
    "\n",
    "First we populate the domain with random values"
   ]
  },
  {
   "cell_type": "markdown",
   "id": "d5cd0589",
   "metadata": {},
   "source": [
    "Next we set the parameter values for the simulation, including number of iterations"
   ]
  },
  {
   "cell_type": "code",
   "execution_count": 7,
   "id": "b1100a3c",
   "metadata": {},
   "outputs": [],
   "source": [
    "iterations = 100\n",
    "dt = 0.1\n",
    "R_A = np.random.uniform(0,2)\n",
    "D_A = np.random.uniform(0,2)\n",
    "R_I = np.random.uniform(0,2)\n",
    "D_I = np.random.uniform(0,2)"
   ]
  },
  {
   "cell_type": "markdown",
   "id": "b6586831",
   "metadata": {},
   "source": [
    "Then we populate the initial random fields"
   ]
  },
  {
   "cell_type": "code",
   "execution_count": 8,
   "id": "ebb18d03",
   "metadata": {},
   "outputs": [],
   "source": [
    "A_domain = np.random.rand(length)\n",
    "I_domain = np.random.rand(length)"
   ]
  },
  {
   "cell_type": "markdown",
   "id": "0d2dec4a",
   "metadata": {},
   "source": [
    "Then we simply step through the time and upate our concentrations"
   ]
  },
  {
   "cell_type": "code",
   "execution_count": 9,
   "id": "0259b821",
   "metadata": {},
   "outputs": [],
   "source": [
    "for i in range(iterations):\n",
    "    new_A = []\n",
    "    new_I = []\n",
    "    \n",
    "    # update values\n",
    "    for x in range(1,length-1):\n",
    "        A = [A_domain[x-1],A_domain[x],A_domain[x+1]]\n",
    "        I = [I_domain[x-1],I_domain[x],I_domain[x+1]]\n",
    "        \n",
    "        dA = update_A(A,I,R_A,D_A,dx)\n",
    "        dI = update_I(A,I,R_I,D_I,dx)\n",
    "        \n",
    "        new_A.append(integrate(A_domain[x],dA,dt))\n",
    "        new_I.append(integrate(I_domain[x],dI,dt))\n",
    "        \n",
    "    A_domain[1:-1] = new_A\n",
    "    I_domain[1:-1] = new_I"
   ]
  },
  {
   "cell_type": "markdown",
   "id": "6e9f8033",
   "metadata": {},
   "source": [
    "Finally we run the simulation and view the result"
   ]
  },
  {
   "cell_type": "code",
   "execution_count": 37,
   "id": "ac7dc48d",
   "metadata": {},
   "outputs": [
    {
     "ename": "NameError",
     "evalue": "name 'A_domain' is not defined",
     "output_type": "error",
     "traceback": [
      "\u001b[0;31m---------------------------------------------------------------------------\u001b[0m",
      "\u001b[0;31mNameError\u001b[0m                                 Traceback (most recent call last)",
      "Cell \u001b[0;32mIn[37], line 3\u001b[0m\n\u001b[1;32m      1\u001b[0m \u001b[38;5;28;01mimport\u001b[39;00m \u001b[38;5;21;01mmatplotlib\u001b[39;00m\u001b[38;5;21;01m.\u001b[39;00m\u001b[38;5;21;01mpyplot\u001b[39;00m \u001b[38;5;28;01mas\u001b[39;00m \u001b[38;5;21;01mplt\u001b[39;00m\n\u001b[0;32m----> 3\u001b[0m plt\u001b[38;5;241m.\u001b[39mplot(\u001b[43mA_domain\u001b[49m)\n\u001b[1;32m      4\u001b[0m plt\u001b[38;5;241m.\u001b[39mplot(I_domain)\n\u001b[1;32m      5\u001b[0m plt\u001b[38;5;241m.\u001b[39mlegend([\u001b[38;5;124m\"\u001b[39m\u001b[38;5;124mActivator\u001b[39m\u001b[38;5;124m\"\u001b[39m,\u001b[38;5;124m\"\u001b[39m\u001b[38;5;124mInhibitor\u001b[39m\u001b[38;5;124m\"\u001b[39m])\n",
      "\u001b[0;31mNameError\u001b[0m: name 'A_domain' is not defined"
     ]
    }
   ],
   "source": [
    "import matplotlib.pyplot as plt\n",
    "\n",
    "plt.plot(A_domain)\n",
    "plt.plot(I_domain)\n",
    "plt.legend([\"Activator\",\"Inhibitor\"])\n",
    "plt.title(f\"R_A:{R_A} R_I:{R_I} D_A:{D_A} D_I:{D_I}\")"
   ]
  },
  {
   "cell_type": "markdown",
   "id": "d8a6d798",
   "metadata": {},
   "source": [
    "By rolling this all up into a single method we can quickly create different simulations with different parameters."
   ]
  },
  {
   "cell_type": "code",
   "execution_count": 11,
   "id": "504de95a",
   "metadata": {},
   "outputs": [],
   "source": [
    "def simulate(fig_name):\n",
    "    iterations = 100\n",
    "    dt = 0.1\n",
    "    R_A = np.random.uniform(0,2)\n",
    "    D_A = np.random.uniform(0,2)\n",
    "    R_I = np.random.uniform(0,2)\n",
    "    D_I = np.random.uniform(0,2)\n",
    "    \n",
    "    A_domain = np.random.rand(length)\n",
    "    I_domain = np.random.rand(length)\n",
    "    \n",
    "    for i in range(iterations):\n",
    "        new_A = []\n",
    "        new_I = []\n",
    "    \n",
    "        # update values\n",
    "        for x in range(1,length-1):\n",
    "            A = [A_domain[x-1],A_domain[x],A_domain[x+1]]\n",
    "            I = [I_domain[x-1],I_domain[x],I_domain[x+1]]\n",
    "        \n",
    "            dA = update_A(A,I,R_A,D_A,dx)\n",
    "            dI = update_I(A,I,R_I,D_I,dx)\n",
    "        \n",
    "            new_A.append(integrate(A_domain[x],dA,dt))\n",
    "            new_I.append(integrate(I_domain[x],dI,dt))\n",
    "        \n",
    "        A_domain[1:-1] = new_A\n",
    "        I_domain[1:-1] = new_I\n",
    "    \n",
    "    plt.clf()\n",
    "    plt.plot(A_domain)\n",
    "    plt.plot(I_domain)\n",
    "    plt.legend([\"Activator\",\"Inhibitor\"])\n",
    "    plt.title(f\"R_A:{R_A:.2f} R_I:{R_I:.2f} D_A:{D_A:.2f} D_I:{D_I:.2f}\")\n",
    "    plt.savefig(f\"{fig_name}.png\")"
   ]
  },
  {
   "cell_type": "code",
   "execution_count": 12,
   "id": "4df15f3b",
   "metadata": {},
   "outputs": [
    {
     "name": "stderr",
     "output_type": "stream",
     "text": [
      "/var/folders/gk/crmfzhhn4xxgmdj8n65gvh2r0000gn/T/ipykernel_70088/51937400.py:2: RuntimeWarning: overflow encountered in scalar power\n",
      "  return R_A-A+A**2*I\n",
      "/var/folders/gk/crmfzhhn4xxgmdj8n65gvh2r0000gn/T/ipykernel_70088/2159554106.py:2: RuntimeWarning: invalid value encountered in scalar add\n",
      "  return U+du*dt\n",
      "/var/folders/gk/crmfzhhn4xxgmdj8n65gvh2r0000gn/T/ipykernel_70088/51937400.py:2: RuntimeWarning: overflow encountered in scalar multiply\n",
      "  return R_A-A+A**2*I\n",
      "/var/folders/gk/crmfzhhn4xxgmdj8n65gvh2r0000gn/T/ipykernel_70088/4257124066.py:2: RuntimeWarning: invalid value encountered in scalar subtract\n",
      "  return (U[2]+U[0]-2*U[1])/delta_x**2\n",
      "/var/folders/gk/crmfzhhn4xxgmdj8n65gvh2r0000gn/T/ipykernel_70088/1768643740.py:5: RuntimeWarning: invalid value encountered in scalar add\n",
      "  return D_I*second_deriv_approx(I,dx)+inhibitor_g(A[1],I[1],R_I)\n"
     ]
    },
    {
     "data": {
      "image/png": "[encoded data removed]",
      "text/plain": [
       "<Figure size 640x480 with 1 Axes>"
      ]
     },
     "metadata": {},
     "output_type": "display_data"
    }
   ],
   "source": [
    "for i in range(100):\n",
    "    simulate(i)"
   ]
  },
  {
   "cell_type": "code",
   "execution_count": 83,
   "id": "0a200e02",
   "metadata": {},
   "outputs": [],
   "source": [
    "def random_bounds(N, tol):\n",
    "    lower_bound = (1-tol)*N\n",
    "    upper_bound = (1+tol)*N \n",
    "    return np.random.uniform(lower_bound, upper_bound)\n",
    "    \n",
    "def simulate_param(R_A, R_I, D_A, D_I, tol, fig_name):\n",
    "    iterations = 100\n",
    "    dt = 0.1\n",
    "    R_A = random_bounds(R_A, tol)\n",
    "    D_A = random_bounds(D_A, tol)\n",
    "    R_I = random_bounds(R_I, tol)\n",
    "    D_I = random_bounds(D_I, tol)\n",
    "    \n",
    "    A_domain = np.random.rand(length)\n",
    "    I_domain = np.random.rand(length)\n",
    "    \n",
    "    for i in range(iterations):\n",
    "        new_A = []\n",
    "        new_I = []\n",
    "    \n",
    "        # update values\n",
    "        for x in range(1,length-1):\n",
    "            A = [A_domain[x-1],A_domain[x],A_domain[x+1]]\n",
    "            I = [I_domain[x-1],I_domain[x],I_domain[x+1]]\n",
    "        \n",
    "            dA = update_A(A,I,R_A,D_A,dx)\n",
    "            dI = update_I(A,I,R_I,D_I,dx)\n",
    "        \n",
    "            new_A.append(integrate(A_domain[x],dA,dt))\n",
    "            new_I.append(integrate(I_domain[x],dI,dt))\n",
    "        \n",
    "        A_domain[1:-1] = new_A\n",
    "        I_domain[1:-1] = new_I\n",
    "    \n",
    "    plt.clf()\n",
    "    plt.plot(A_domain)\n",
    "    plt.plot(I_domain)\n",
    "    plt.legend([\"Activator\",\"Inhibitor\"])\n",
    "    plt.title(f\"R_A:{R_A:.2f} R_I:{R_I:.2f} D_A:{D_A:.2f} D_I:{D_I:.2f}\")\n",
    "    plt.savefig(f\"{fig_name}.png\")"
   ]
  },
  {
   "cell_type": "code",
   "execution_count": 107,
   "id": "5cde9318",
   "metadata": {},
   "outputs": [
    {
     "data": {
      "image/png": "[encoded data removed]",
      "text/plain": [
       "<Figure size 640x480 with 1 Axes>"
      ]
     },
     "metadata": {},
     "output_type": "display_data"
    }
   ],
   "source": [
    "simulate_param(0.09, 1.06, 1.18, 1.75, 0.1, \"test\")"
   ]
  },
  {
   "cell_type": "markdown",
   "id": "ba3b8091",
   "metadata": {},
   "source": [
    "# 2D representation\n",
    "For the 2D represesntation we need to use 2d arrays."
   ]
  },
  {
   "cell_type": "markdown",
   "id": "56ae4b4e",
   "metadata": {},
   "source": [
    "# 3D images\n",
    "Now that we have some candidate parameter values, lets see if we can generate 2D images \n",
    "\n",
    "We can use a 2d stencil that looks like this\n",
    "$$\\begin{bmatrix}\n",
    "0&1&0\\\\\n",
    "1&-4&1\\\\\n",
    "0&1&0\n",
    "\\end{bmatrix}$$\n",
    "\n",
    "This is known as the laplacian kernel"
   ]
  },
  {
   "cell_type": "code",
   "execution_count": 133,
   "id": "b5c3c8f2",
   "metadata": {},
   "outputs": [],
   "source": [
    "import seaborn as sns\n",
    "import numpy as np\n",
    "\n",
    "def second_deriv_approx_2d(U, delta_x):\n",
    "    return (U[0][1] + U[1][0] - 4*U[1][1] + U[1][2] + U[2][1]) / delta_x**2\n",
    "\n",
    "def update_A_2d(A,I,R_A,D_A,dx):\n",
    "    return D_A * second_deriv_approx_2d(A,dx) + activator_f(A[1][1], I[1][1], R_A)\n",
    "\n",
    "def update_I_2d(A,I,R_I,D_I,dx):\n",
    "    return D_I * second_deriv_approx_2d(I,dx) + inhibitor_g(A[1][1], I[1][1], R_I)\n",
    "\n",
    "def get_square(X, x, y):\n",
    "    return X[x-1:x+2, y-1:y+2]\n",
    "\n",
    "def random_bounds(N, tol):\n",
    "    lower_bound = (1-tol) * N\n",
    "    upper_bound = (1+tol) * N \n",
    "    return np.random.uniform(lower_bound, upper_bound)\n",
    "\n",
    "def activator_f(A,I,R_A):\n",
    "    return R_A - A + A**2 * I\n",
    "\n",
    "def inhibitor_g(A,I,R_I):\n",
    "    return R_I - A**2 * I\n",
    "\n",
    "def integrate(U,du,dt):\n",
    "    return U + du * dt\n"
   ]
  },
  {
   "cell_type": "code",
   "execution_count": 180,
   "id": "48334574",
   "metadata": {},
   "outputs": [],
   "source": [
    "import matplotlib.pyplot as plt\n",
    "\n",
    "def simulate(R_A,R_I,D_A,D_I,samples):\n",
    "    for i in range(samples):\n",
    "        length = 100\n",
    "        A_domain = np.array(np.random.rand(length, length))\n",
    "        I_domain = np.array(np.random.rand(length, length))\n",
    "\n",
    "        iterations = 100\n",
    "        dt = 0.1\n",
    "        dx = 1.0\n",
    "        tol = 0.1\n",
    "        R_A = random_bounds(R_A, tol)\n",
    "        D_A = random_bounds(D_A, tol)\n",
    "        R_I = random_bounds(R_I, tol)\n",
    "        D_I = random_bounds(D_I, tol)\n",
    "\n",
    "        for i in range(iterations):\n",
    "            new_A = np.zeros((length, length))\n",
    "            new_I = np.zeros((length, length))\n",
    "\n",
    "            for r in range(1, length-1):\n",
    "                for c in range(1, length-1):\n",
    "                    A = get_square(A_domain, r, c)\n",
    "                    I = get_square(I_domain, r, c)\n",
    "\n",
    "                    dA = update_A_2d(A, I, R_A, D_A, dx)\n",
    "                    dI = update_I_2d(A, I, R_I, D_I, dx)\n",
    "\n",
    "                    new_A[r, c] = integrate(A_domain[r, c], dA, dt)\n",
    "                    new_I[r, c] = integrate(I_domain[r, c], dI, dt)\n",
    "\n",
    "            A_domain = new_A\n",
    "            I_domain = new_I\n",
    "\n",
    "        plt.legend([\"Activator\",\"Inhibitor\"])\n",
    "        plt.title(f\"R_A:{R_A:.2f} R_I:{R_I:.2f} D_A:{D_A:.2f} D_I:{D_I:.2f}\")\n",
    "        plt.imshow(A_domain>I_domain, interpolation='bicubic',cmap='viridis')\n",
    "        plt.savefig(f\"{R_A:.2f}_{R_I:.2f}_{D_A:.2f}_{D_I:.2f}.png\")"
   ]
  },
  {
   "cell_type": "code",
   "execution_count": 186,
   "id": "c39fd69b",
   "metadata": {},
   "outputs": [
    {
     "data": {
      "image/png": "[encoded data removed]",
      "text/plain": [
       "<Figure size 640x480 with 1 Axes>"
      ]
     },
     "metadata": {},
     "output_type": "display_data"
    }
   ],
   "source": [
    "simulate(0.19, 0.38, 1.04, 1.29,10)"
   ]
  },
  {
   "cell_type": "code",
   "execution_count": null,
   "id": "9812919b",
   "metadata": {},
   "outputs": [],
   "source": [
    "import csv\n"
   ]
  }
 ],
 "metadata": {
  "kernelspec": {
   "display_name": "Python 3 (ipykernel)",
   "language": "python",
   "name": "python3"
  },
  "language_info": {
   "codemirror_mode": {
    "name": "ipython",
    "version": 3
   },
   "file_extension": ".py",
   "mimetype": "text/x-python",
   "name": "python",
   "nbconvert_exporter": "python",
   "pygments_lexer": "ipython3",
   "version": "3.11.2"
  }
 },
 "nbformat": 4,
 "nbformat_minor": 5
}
