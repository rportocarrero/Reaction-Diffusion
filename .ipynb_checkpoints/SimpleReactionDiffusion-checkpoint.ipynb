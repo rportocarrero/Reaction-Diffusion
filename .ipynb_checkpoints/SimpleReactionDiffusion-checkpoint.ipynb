{
 "cells": [
  {
   "cell_type": "markdown",
   "id": "6f52e863",
   "metadata": {},
   "source": [
    "# This is a simple example of a reaction-diffusion model \n",
    "This model uses 2 different morphogens, an activator which activates itself and an inhibitor, and an inhbitor which inhibits the activator.  "
   ]
  },
  {
   "cell_type": "markdown",
   "id": "8abf42b3",
   "metadata": {},
   "source": [
    "## Building the Domain\n",
    "Our physical domain is a discreteized 1-dimensional field that can be represented by a series of 2-dimensional vectors.  We will use a length of 100 and a discretization distance of 1. "
   ]
  },
  {
   "cell_type": "code",
   "execution_count": 69,
   "id": "9fb3efd8",
   "metadata": {},
   "outputs": [],
   "source": [
    "import numpy as np\n",
    "\n",
    "length =100\n",
    "dx=1.0\n",
    "\n",
    "domain = np.zeros(length)"
   ]
  },
  {
   "cell_type": "markdown",
   "id": "e478882c",
   "metadata": {},
   "source": [
    "# Update Equations"
   ]
  },
  {
   "cell_type": "markdown",
   "id": "0f6740e4",
   "metadata": {},
   "source": [
    "The next thing that we need to define is the update equations for our simulation. The first equation is the approximation of the 2nd derivative The inputs to this are the 3 spatial values that we need to approximate the 2nd derivative."
   ]
  },
  {
   "cell_type": "code",
   "execution_count": 70,
   "id": "fd4db818",
   "metadata": {},
   "outputs": [],
   "source": [
    "def second_deriv_approx(U,delta_x):\n",
    "    return (U[2]+U[0]-2*U[1])/delta_x**2"
   ]
  },
  {
   "cell_type": "markdown",
   "id": "ae5d1522",
   "metadata": {},
   "source": [
    "The next equation is the equation that describes how the activator is affected by the inhibitor and itself. $R_a$ is the reaction rate, $A$ is the activator concentration and $I$ is the inhibitor concentration."
   ]
  },
  {
   "cell_type": "code",
   "execution_count": 71,
   "id": "7c2d8853",
   "metadata": {},
   "outputs": [],
   "source": [
    "def activator_f(A,I,R_A):\n",
    "    return R_A-A+A**2*I"
   ]
  },
  {
   "cell_type": "markdown",
   "id": "bd4f7c54",
   "metadata": {},
   "source": [
    "Next we have the equation for the inhibitor. "
   ]
  },
  {
   "cell_type": "code",
   "execution_count": 72,
   "id": "526af078",
   "metadata": {},
   "outputs": [],
   "source": [
    "def inhibitor_g(A,I,R_I):\n",
    "    return R_I-A**2*I"
   ]
  },
  {
   "cell_type": "markdown",
   "id": "8ed6a092",
   "metadata": {},
   "source": [
    "These can then be used in a typical activator-inhibitor function which includes the diffusion coefficients $D_A$ and $D_I$"
   ]
  },
  {
   "cell_type": "code",
   "execution_count": 73,
   "id": "d53b1f85",
   "metadata": {},
   "outputs": [],
   "source": [
    "def update_A(A,I,R_A,D_A,dx):\n",
    "    return D_A*second_deriv_approx(A,dx)+activator_f(A,I,R_A)\n",
    "\n",
    "def update_I(A,I,R_I,D_I,dx):\n",
    "    return D_I*second_deriv_approx(I,dx)+inhibitor_g(A,I,R_I)"
   ]
  },
  {
   "cell_type": "markdown",
   "id": "0669fa09",
   "metadata": {},
   "source": [
    "# Integration Method\n",
    "\n",
    "<Update to something better than Euler's Method>"
   ]
  },
  {
   "cell_type": "code",
   "execution_count": null,
   "id": "84f1471b",
   "metadata": {},
   "outputs": [],
   "source": [
    "def integrate(U,du,dt):\n",
    "    return U+du*dt"
   ]
  },
  {
   "cell_type": "code",
   "execution_count": null,
   "id": "14c3a5eb",
   "metadata": {},
   "outputs": [],
   "source": []
  }
 ],
 "metadata": {
  "kernelspec": {
   "display_name": "Python 3 (ipykernel)",
   "language": "python",
   "name": "python3"
  },
  "language_info": {
   "codemirror_mode": {
    "name": "ipython",
    "version": 3
   },
   "file_extension": ".py",
   "mimetype": "text/x-python",
   "name": "python",
   "nbconvert_exporter": "python",
   "pygments_lexer": "ipython3",
   "version": "3.11.2"
  }
 },
 "nbformat": 4,
 "nbformat_minor": 5
}
